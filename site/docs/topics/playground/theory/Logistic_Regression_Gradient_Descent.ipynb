{
  "cells": [
    {
      "cell_type": "markdown",
      "id": "75d7c4ae",
      "metadata": {
        "id": "75d7c4ae"
      },
      "source": [
        "\n",
        "# Logistic Regression with Gradient Descent\n",
        "\n",
        "This notebook demonstrates how logistic regression works using gradient descent, implemented from scratch in Python.\n",
        "\n",
        "We'll use synthetic data for binary classification and visualize the decision boundary and loss function as the model learns.\n"
      ]
    },
    {
      "cell_type": "code",
      "execution_count": 1,
      "id": "d6e8bd82",
      "metadata": {
        "colab": {
          "base_uri": "https://localhost:8080/",
          "height": 472
        },
        "id": "d6e8bd82",
        "outputId": "a9016f8d-5284-472b-a3d2-631bfa24101f"
      },
      "outputs": [
        {
          "output_type": "display_data",
          "data": {
            "text/plain": [
              "<Figure size 640x480 with 1 Axes>"
            ],
            "image/png": "[encoded data removed]"
          },
          "metadata": {}
        }
      ],
      "source": [
        "import numpy as np\n",
        "import matplotlib.pyplot as plt\n",
        "\n",
        "# Generate synthetic data\n",
        "np.random.seed(0)\n",
        "num_points = 100\n",
        "X = np.random.randn(num_points, 2)\n",
        "y = (X[:, 0] + X[:, 1] > 0).astype(int)\n",
        "\n",
        "# Plot data\n",
        "plt.scatter(X[y==0][:, 0], X[y==0][:, 1], color='red', label='Class 0')\n",
        "plt.scatter(X[y==1][:, 0], X[y==1][:, 1], color='blue', label='Class 1')\n",
        "plt.xlabel(\"X1\")\n",
        "plt.ylabel(\"X2\")\n",
        "plt.title(\"Synthetic Data for Logistic Regression\")\n",
        "plt.legend()\n",
        "plt.grid(True)\n",
        "plt.show()\n"
      ]
    },
    {
      "cell_type": "markdown",
      "id": "3019d05b",
      "metadata": {
        "id": "3019d05b"
      },
      "source": [
        "## Logistic Regression Functions"
      ]
    },
    {
      "cell_type": "code",
      "execution_count": null,
      "id": "e2b6b151",
      "metadata": {
        "id": "e2b6b151"
      },
      "outputs": [],
      "source": [
        "def sigmoid(z):\n",
        "    return 1 / (1 + np.exp(-z))\n",
        "\n",
        "def compute_loss(y, y_hat):\n",
        "    m = len(y)\n",
        "    return -1/m * np.sum(y * np.log(y_hat + 1e-15) + (1 - y) * np.log(1 - y_hat + 1e-15))\n"
      ]
    },
    {
      "cell_type": "markdown",
      "id": "d4d9f3fc",
      "metadata": {
        "id": "d4d9f3fc"
      },
      "source": [
        "## Model Training with Gradient Descent"
      ]
    },
    {
      "cell_type": "code",
      "execution_count": null,
      "id": "68d32ff8",
      "metadata": {
        "id": "68d32ff8"
      },
      "outputs": [],
      "source": [
        "# Add bias term to input\n",
        "X_bias = np.c_[np.ones((X.shape[0], 1)), X]\n",
        "\n",
        "# Initialize weights\n",
        "weights = np.zeros(X_bias.shape[1])\n",
        "\n",
        "# Hyperparameters\n",
        "learning_rate = 0.1\n",
        "epochs = 1000\n",
        "losses = []\n",
        "\n",
        "# Gradient Descent\n",
        "for epoch in range(epochs):\n",
        "    z = np.dot(X_bias, weights)\n",
        "    y_hat = sigmoid(z)\n",
        "    loss = compute_loss(y, y_hat)\n",
        "    losses.append(loss)\n",
        "\n",
        "    gradient = np.dot(X_bias.T, (y_hat - y)) / len(y)\n",
        "    weights -= learning_rate * gradient\n",
        "\n",
        "    if epoch % 100 == 0:\n",
        "        print(f\"Epoch {epoch}, Loss: {loss:.4f}\")\n"
      ]
    },
    {
      "cell_type": "markdown",
      "id": "a255c32f",
      "metadata": {
        "id": "a255c32f"
      },
      "source": [
        "## Plotting Loss Curve"
      ]
    },
    {
      "cell_type": "code",
      "execution_count": null,
      "id": "6387f1c3",
      "metadata": {
        "id": "6387f1c3"
      },
      "outputs": [],
      "source": [
        "plt.plot(losses)\n",
        "plt.xlabel(\"Epoch\")\n",
        "plt.ylabel(\"Loss\")\n",
        "plt.title(\"Loss over Time\")\n",
        "plt.grid(True)\n",
        "plt.show()\n"
      ]
    },
    {
      "cell_type": "markdown",
      "id": "8712f3fe",
      "metadata": {
        "id": "8712f3fe"
      },
      "source": [
        "## Visualizing Decision Boundary"
      ]
    },
    {
      "cell_type": "code",
      "execution_count": null,
      "id": "4c65dde0",
      "metadata": {
        "id": "4c65dde0"
      },
      "outputs": [],
      "source": [
        "x1 = np.linspace(-3, 3, 100)\n",
        "x2 = -(weights[0] + weights[1] * x1) / weights[2]\n",
        "\n",
        "plt.plot(x1, x2, label=\"Decision Boundary\", color='green')\n",
        "plt.scatter(X[y==0][:, 0], X[y==0][:, 1], color='red', label='Class 0')\n",
        "plt.scatter(X[y==1][:, 0], X[y==1][:, 1], color='blue', label='Class 1')\n",
        "plt.xlabel(\"X1\")\n",
        "plt.ylabel(\"X2\")\n",
        "plt.legend()\n",
        "plt.title(\"Logistic Regression Decision Boundary\")\n",
        "plt.grid(True)\n",
        "plt.show()\n"
      ]
    },
    {
      "cell_type": "markdown",
      "id": "d12f7430",
      "metadata": {
        "id": "d12f7430"
      },
      "source": [
        "## Try it Yourself: Make Predictions"
      ]
    },
    {
      "cell_type": "code",
      "execution_count": null,
      "id": "8bf53378",
      "metadata": {
        "id": "8bf53378"
      },
      "outputs": [],
      "source": [
        "def predict(X_input):\n",
        "    X_input_bias = np.c_[np.ones((X_input.shape[0], 1)), X_input]\n",
        "    return (sigmoid(np.dot(X_input_bias, weights)) >= 0.5).astype(int)\n",
        "\n",
        "# Example: Predict a few points\n",
        "test_points = np.array([[1, 2], [-1, -2], [0, 0]])\n",
        "predictions = predict(test_points)\n",
        "\n",
        "for i, point in enumerate(test_points):\n",
        "    print(f\"Point {point} => Predicted Class: {predictions[i]}\")\n"
      ]
    }
  ],
  "metadata": {
    "colab": {
      "provenance": []
    },
    "language_info": {
      "name": "python"
    },
    "kernelspec": {
      "name": "python3",
      "display_name": "Python 3"
    }
  },
  "nbformat": 4,
  "nbformat_minor": 5
}