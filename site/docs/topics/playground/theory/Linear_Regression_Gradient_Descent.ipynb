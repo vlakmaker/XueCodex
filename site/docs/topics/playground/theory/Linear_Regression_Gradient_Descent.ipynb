{
  "cells": [
    {
      "cell_type": "markdown",
      "metadata": {
        "id": "UKoM3B03LRms"
      },
      "source": [
        "# 🧠 Lab: Linear Regression with Gradient Descent\n",
        "\n",
        "This notebook walks through how to build a simple linear regression model using gradient descent *from scratch*.\n"
      ]
    },
    {
      "cell_type": "markdown",
      "source": [
        "# Linear Regression Overview:\n",
        "Linear regression is a method used to model the relationship between a dependent variable\n",
        "𝑦\n",
        "y and one or more independent variables\n",
        "𝑋\n",
        "X. The general form of the linear regression equation for a single feature (one independent variable) is:\n",
        "\n",
        "𝑦\n",
        "=\n",
        "𝑤\n",
        "⋅\n",
        "𝑋\n",
        "+\n",
        "𝑏\n",
        "y=w⋅X+b\n",
        "\n",
        "Where:\n",
        "\n",
        "𝑦\n",
        "y is the predicted output (dependent variable).\n",
        "\n",
        "𝑋\n",
        "X is the input data (independent variable).\n",
        "\n",
        "𝑤\n",
        "w is the weight (also called the slope or coefficient) of the model.\n",
        "\n",
        "𝑏\n",
        "b is the bias (also called the intercept) of the model.\n",
        "\n",
        "\n",
        "What is\n",
        "𝑤\n",
        "w (Weight / Slope)?\n",
        "\n",
        "The weight\n",
        "𝑤\n",
        "w determines the slope of the line in linear regression. It tells you how much the predicted output\n",
        "𝑦\n",
        "y will change when the input feature\n",
        "𝑋\n",
        "X changes.\n",
        "\n",
        "If\n",
        "𝑤\n",
        "w is large: A small change in\n",
        "𝑋\n",
        "X will result in a large change in\n",
        "𝑦\n",
        "y.\n",
        "\n",
        "If\n",
        "𝑤\n",
        "w is small: A small change in\n",
        "𝑋\n",
        "X will result in a small change in\n",
        "𝑦\n",
        "y.\n",
        "\n",
        "\n",
        "In simpler terms,\n",
        "𝑤\n",
        "w controls the steepness of the line that best fits the data.\n",
        "\n",
        "What is\n",
        "𝑏\n",
        "b (Bias / Intercept)?\n",
        "The bias\n",
        "𝑏\n",
        "b represents the intercept of the line. It determines where the line crosses the y-axis when\n",
        "𝑋\n",
        "=\n",
        "0\n",
        "X=0.\n",
        "\n",
        "If\n",
        "𝑏\n",
        "b is positive, the line will cross above the origin on the y-axis.\n",
        "\n",
        "If\n",
        "𝑏\n",
        "b is negative, the line will cross below the origin on the y-axis.\n",
        "\n",
        "The bias is important because it shifts the line up or down, allowing the model to better fit the data.\n",
        "\n",
        "\n",
        "\n",
        "Putting It Together:\n",
        "In the equation\n",
        "𝑦\n",
        "=\n",
        "𝑤\n",
        "⋅\n",
        "𝑋\n",
        "+\n",
        "𝑏\n",
        "y=w⋅X+b:\n",
        "\n",
        "𝑤\n",
        "w controls how much the predicted value\n",
        "𝑦\n",
        "y changes as\n",
        "𝑋\n",
        "X changes (i.e., the slope of the line).\n",
        "\n",
        "𝑏\n",
        "b shifts the line up or down, adjusting the prediction when\n",
        "𝑋\n",
        "=\n",
        "0\n",
        "X=0.\n",
        "\n",
        "Example:\n",
        "Suppose you have the equation\n",
        "𝑦\n",
        "=\n",
        "2\n",
        "𝑋\n",
        "+\n",
        "1\n",
        "y=2X+1:\n",
        "\n",
        "𝑤\n",
        "=\n",
        "2\n",
        "w=2 means that for every 1-unit increase in\n",
        "𝑋\n",
        "X,\n",
        "𝑦\n",
        "y will increase by 2.\n",
        "\n",
        "𝑏\n",
        "=\n",
        "1\n",
        "b=1 means that when\n",
        "𝑋\n",
        "=\n",
        "0\n",
        "X=0,\n",
        "𝑦\n",
        "y will be 1 (the line crosses the y-axis at 1).\n",
        "\n",
        "During Training (Gradient Descent):\n",
        "When you train a linear regression model using gradient descent, the goal is to adjust\n",
        "𝑤\n",
        "w and\n",
        "𝑏\n",
        "b so that the line fits the data as well as possible:\n",
        "\n",
        "𝑤\n",
        "w is adjusted to minimize the difference between the predicted values and the actual values.\n",
        "\n",
        "𝑏\n",
        "b is adjusted to make sure the line is in the right position to best fit the data.\n",
        "\n",
        "Why are\n",
        "𝑤\n",
        "w and\n",
        "𝑏\n",
        "b Important?\n",
        "The weights and bias are the parameters that define the linear model. By learning the right values for\n",
        "𝑤\n",
        "w and\n",
        "𝑏\n",
        "b, the model can make accurate predictions on new, unseen data.\n",
        "\n",
        "Gradient descent helps find the best values for\n",
        "𝑤\n",
        "w and\n",
        "𝑏\n",
        "b by iteratively adjusting them to minimize the error (cost).\n",
        "\n",
        "In summary:\n",
        "\n",
        "𝑤\n",
        "w (weight) controls the slope of the line.\n",
        "\n",
        "𝑏\n",
        "b (bias) controls where the line intersects the y-axis (its vertical shift)."
      ],
      "metadata": {
        "id": "INaGeAloOd9Y"
      }
    },
    {
      "cell_type": "markdown",
      "source": [
        "# Synthetic Data Creation:\n",
        "The lab starts by generating synthetic data for a simple linear regression task:\n",
        "\n",
        "The independent variable\n",
        "𝑋\n",
        "X is generated randomly.\n",
        "\n",
        "A true slope (true_slope = 3.5) and intercept (true_intercept = 1.2) are defined, and some random noise is added to the data to simulate real-world data variability.\n",
        "\n",
        "The dependent variable\n",
        "𝑦\n",
        "y is calculated using the linear equation\n",
        "𝑦\n",
        "=\n",
        "true_slope\n",
        "×\n",
        "𝑋\n",
        "+\n",
        "true_intercept\n",
        "+\n",
        "noise\n",
        "y=true_slope×X+true_intercept+noise.\n",
        "\n",
        "Plot the Data: A scatter plot is created to visualize the generated data.\n",
        "[link text](https://)"
      ],
      "metadata": {
        "id": "G-0BDxEEM31q"
      }
    },
    {
      "cell_type": "code",
      "execution_count": null,
      "metadata": {
        "colab": {
          "base_uri": "https://localhost:8080/",
          "height": 472
        },
        "id": "3-KP_AY9LRmu",
        "outputId": "5b71ddce-d249-4b50-b93b-d5171c3eb34d"
      },
      "outputs": [
        {
          "output_type": "display_data",
          "data": {
            "text/plain": [
              "<Figure size 640x480 with 1 Axes>"
            ],
            "image/png": "[encoded data removed]"
          },
          "metadata": {}
        }
      ],
      "source": [
        "import numpy as np\n",
        "import matplotlib.pyplot as plt\n",
        "\n",
        "# Generate synthetic data\n",
        "np.random.seed(42)\n",
        "X = 2 * np.random.rand(100, 1)\n",
        "true_slope = 3.5\n",
        "true_intercept = 1.2\n",
        "noise = np.random.randn(100, 1)\n",
        "\n",
        "y = true_slope * X + true_intercept + noise\n",
        "\n",
        "# Plot the data\n",
        "plt.scatter(X, y, color='blue', label='Data')\n",
        "plt.xlabel('X')\n",
        "plt.ylabel('y')\n",
        "plt.title('Generated Data')\n",
        "plt.legend()\n",
        "plt.grid(True)\n",
        "plt.show()"
      ]
    },
    {
      "cell_type": "markdown",
      "source": [
        "# Cost Function\n",
        "Initialization of Weights: The model starts with initial weights\n",
        "𝑤\n",
        "=\n",
        "0.0\n",
        "w=0.0 (slope) and\n",
        "𝑏\n",
        "=\n",
        "0.0\n",
        "b=0.0 (intercept).\n",
        "\n",
        "Compute Cost: The cost function (or loss function) measures the error between the predicted values and the actual values. This is the mean squared error (MSE) cost function, calculated as:\n",
        "\n",
        "𝐽\n",
        "(\n",
        "𝑤\n",
        ",\n",
        "𝑏\n",
        ")\n",
        "=\n",
        "1\n",
        "2\n",
        "𝑚\n",
        "∑\n",
        "𝑖\n",
        "=\n",
        "1\n",
        "𝑚\n",
        "(\n",
        "𝑦\n",
        "(\n",
        "𝑖\n",
        ")\n",
        "−\n",
        "𝑦\n",
        "^\n",
        "(\n",
        "𝑖\n",
        ")\n",
        ")\n",
        "2\n",
        "J(w,b)=\n",
        "2m\n",
        "1\n",
        "​\n",
        "  \n",
        "i=1\n",
        "∑\n",
        "m\n",
        "​\n",
        " (y\n",
        "(i)\n",
        " −\n",
        "y\n",
        "^\n",
        "​\n",
        "  \n",
        "(i)\n",
        " )\n",
        "2\n",
        "\n",
        "Where:\n",
        "\n",
        "𝑦\n",
        "(\n",
        "𝑖\n",
        ")\n",
        "y\n",
        "(i)\n",
        "  is the actual value.\n",
        "\n",
        "𝑦\n",
        "^\n",
        "(\n",
        "𝑖\n",
        ")\n",
        "y\n",
        "^\n",
        "​\n",
        "  \n",
        "(i)\n",
        "  is the predicted value.\n"
      ],
      "metadata": {
        "id": "2myp5VbSM8_9"
      }
    },
    {
      "cell_type": "code",
      "execution_count": null,
      "metadata": {
        "id": "sKRB4z95LRmv"
      },
      "outputs": [],
      "source": [
        "# Initialize weights\n",
        "w = 0.0  # slope\n",
        "b = 0.0  # intercept\n",
        "\n",
        "# Cost function\n",
        "def compute_cost(X, y, w, b):\n",
        "    m = len(X)\n",
        "    predictions = w * X + b\n",
        "    errors = predictions - y\n",
        "    cost = (1 / (2 * m)) * np.sum(errors ** 2)\n",
        "    return cost"
      ]
    },
    {
      "cell_type": "markdown",
      "source": [
        "# Gradient Descent\n",
        "Compute Gradient: The gradients of the cost function with respect to the weights are calculated. These gradients tell us the direction in which the weights need to be adjusted.\n",
        "\n",
        "Gradient of\n",
        "𝑤\n",
        "w (slope):\n",
        "𝑑\n",
        "𝑤\n",
        "=\n",
        "1\n",
        "𝑚\n",
        "∑\n",
        "(\n",
        "𝑦\n",
        "^\n",
        "−\n",
        "𝑦\n",
        ")\n",
        "×\n",
        "𝑋\n",
        "dw=\n",
        "m\n",
        "1\n",
        "​\n",
        " ∑(\n",
        "y\n",
        "^\n",
        "​\n",
        " −y)×X\n",
        "\n",
        "Gradient of\n",
        "𝑏\n",
        "b (intercept):\n",
        "𝑑\n",
        "𝑏\n",
        "=\n",
        "1\n",
        "𝑚\n",
        "∑\n",
        "(\n",
        "𝑦\n",
        "^\n",
        "−\n",
        "𝑦\n",
        ")\n",
        "db=\n",
        "m\n",
        "1\n",
        "​\n",
        " ∑(\n",
        "y\n",
        "^\n",
        "​\n",
        " −y)\n",
        "\n",
        "Update Weights: The weights are updated using the gradient descent algorithm:\n",
        "\n",
        "𝑤\n",
        ":\n",
        "=\n",
        "𝑤\n",
        "−\n",
        "learning_rate\n",
        "×\n",
        "𝑑\n",
        "𝑤\n",
        "w:=w−learning_rate×dw\n",
        "𝑏\n",
        ":\n",
        "=\n",
        "𝑏\n",
        "−\n",
        "learning_rate\n",
        "×\n",
        "𝑑\n",
        "𝑏\n",
        "b:=b−learning_rate×db\n",
        "This is done for a set number of iterations, with the learning rate controlling how much the weights are adjusted at each step.\n"
      ],
      "metadata": {
        "id": "F-_BXYMuNNBy"
      }
    },
    {
      "cell_type": "code",
      "execution_count": null,
      "metadata": {
        "id": "UnHZ4goILRmv"
      },
      "outputs": [],
      "source": [
        "# Gradient Descent\n",
        "def compute_gradient(X, y, w, b):\n",
        "    m = len(X)\n",
        "    predictions = w * X + b\n",
        "    error = predictions - y\n",
        "    dw = (1 / m) * np.sum(error * X)\n",
        "    db = (1 / m) * np.sum(error)\n",
        "    return dw, db\n",
        "\n",
        "def gradient_descent(X, y, w, b, learning_rate, iterations):\n",
        "    cost_history = []\n",
        "    for i in range(iterations):\n",
        "        dw, db = compute_gradient(X, y, w, b)\n",
        "        w -= learning_rate * dw\n",
        "        b -= learning_rate * db\n",
        "        cost = compute_cost(X, y, w, b)\n",
        "        cost_history.append(cost)\n",
        "        if i % 10 == 0:\n",
        "            print(f\"Iteration {i:3}: Cost={cost:.4f} | w={w:.4f}, b={b:.4f}\")\n",
        "    return w, b, cost_history"
      ]
    },
    {
      "cell_type": "markdown",
      "source": [
        "# Training the Model\n",
        "The gradient descent function runs for 100 iterations and outputs the updated values of\n",
        "𝑤\n",
        "w and\n",
        "𝑏\n",
        "b, along with the cost after each iteration.\n",
        "\n",
        "After training, the final weights\n",
        "𝑤\n",
        "w and\n",
        "𝑏\n",
        "b are printed. These values should closely match the true slope and intercept used to generate the data."
      ],
      "metadata": {
        "id": "jekFjITcNngS"
      }
    },
    {
      "cell_type": "code",
      "execution_count": null,
      "metadata": {
        "colab": {
          "base_uri": "https://localhost:8080/"
        },
        "id": "QOz2A1SsLRmw",
        "outputId": "92b497d8-02fe-41d2-98b9-0f00f131450b"
      },
      "outputs": [
        {
          "output_type": "stream",
          "name": "stdout",
          "text": [
            "Iteration   0: Cost=7.9652 | w=0.5368, b=0.4490\n",
            "Iteration  10: Cost=0.5473 | w=2.4656, b=1.9243\n",
            "Iteration  20: Cost=0.4544 | w=2.7405, b=1.9752\n",
            "Iteration  30: Cost=0.4391 | w=2.8385, b=1.9000\n",
            "Iteration  40: Cost=0.4287 | w=2.9078, b=1.8250\n",
            "Iteration  50: Cost=0.4213 | w=2.9650, b=1.7606\n",
            "Iteration  60: Cost=0.4161 | w=3.0130, b=1.7063\n",
            "Iteration  70: Cost=0.4124 | w=3.0534, b=1.6605\n",
            "Iteration  80: Cost=0.4097 | w=3.0875, b=1.6219\n",
            "Iteration  90: Cost=0.4079 | w=3.1163, b=1.5894\n",
            "\n",
            "Final weights: w = 3.1382, b = 1.5645\n"
          ]
        }
      ],
      "source": [
        "# Train the model\n",
        "learning_rate = 0.1\n",
        "iterations = 100\n",
        "\n",
        "w_final, b_final, cost_history = gradient_descent(X, y, w, b, learning_rate, iterations)\n",
        "\n",
        "print(f\"\\nFinal weights: w = {w_final:.4f}, b = {b_final:.4f}\")"
      ]
    },
    {
      "cell_type": "markdown",
      "source": [
        "# Plotting the Cost and Learned Line\n",
        "Cost over Iterations: A plot is generated showing how the cost decreases over the iterations of training. This shows that the model is learning and improving over time.\n",
        "\n",
        "Learned Line: The final learned line is plotted alongside the original data points. This shows how well the model has fit the data."
      ],
      "metadata": {
        "id": "eeuXPZL5NvlR"
      }
    },
    {
      "cell_type": "code",
      "execution_count": 9,
      "metadata": {
        "colab": {
          "base_uri": "https://localhost:8080/",
          "height": 472
        },
        "id": "CZUuLcl_LRmw",
        "outputId": "d40a3fe0-87ec-4152-9a26-7f3ed0ca8078"
      },
      "outputs": [
        {
          "output_type": "display_data",
          "data": {
            "text/plain": [
              "<Figure size 640x480 with 1 Axes>"
            ],
            "image/png": "[encoded data removed]"
          },
          "metadata": {}
        }
      ],
      "source": [
        "# Plot cost over iterations\n",
        "plt.plot(range(iterations), cost_history, 'r')\n",
        "plt.title(\"Cost over Iterations\")\n",
        "plt.xlabel(\"Iterations\")\n",
        "plt.ylabel(\"Cost\")\n",
        "plt.grid(True)\n",
        "plt.show()"
      ]
    },
    {
      "cell_type": "code",
      "execution_count": null,
      "metadata": {
        "colab": {
          "base_uri": "https://localhost:8080/",
          "height": 472
        },
        "id": "JSHbNqL0LRmw",
        "outputId": "faa78814-0803-4d68-827c-a5a5f0ce1abf"
      },
      "outputs": [
        {
          "output_type": "display_data",
          "data": {
            "text/plain": [
              "<Figure size 640x480 with 1 Axes>"
            ],
            "image/png": "[encoded data removed]"
          },
          "metadata": {}
        }
      ],
      "source": [
        "# Plot the learned line\n",
        "plt.scatter(X, y, color='blue', label='Data')\n",
        "plt.plot(X, w_final * X + b_final, color='red', label='Learned Line')\n",
        "plt.xlabel('X')\n",
        "plt.ylabel('y')\n",
        "plt.title('Linear Regression Result')\n",
        "plt.legend()\n",
        "plt.grid(True)\n",
        "plt.show()"
      ]
    },
    {
      "cell_type": "markdown",
      "source": [
        "# Making Predictions\n",
        "A function is defined to make predictions based on the final learned model parameters\n",
        "𝑤\n",
        "w and\n",
        "𝑏\n",
        "b.\n",
        "\n",
        "Predictions are made for new values of\n",
        "𝑋\n",
        "X (e.g., 0.5, 1.5, 2.0), and the corresponding predicted\n",
        "𝑦\n",
        "y-values are printed."
      ],
      "metadata": {
        "id": "oIltg_m9N9vG"
      }
    },
    {
      "cell_type": "code",
      "execution_count": null,
      "metadata": {
        "colab": {
          "base_uri": "https://localhost:8080/"
        },
        "id": "vFFR2iRWLRmw",
        "outputId": "323c06ee-2054-4c5d-a2cb-45e24c008721"
      },
      "outputs": [
        {
          "output_type": "stream",
          "name": "stdout",
          "text": [
            "Prediction for x = 0.5: y = 3.13\n",
            "Prediction for x = 1.5: y = 6.27\n",
            "Prediction for x = 2.0: y = 7.84\n"
          ]
        }
      ],
      "source": [
        "# Predict\n",
        "def predict(x):\n",
        "    return w_final * x + b_final\n",
        "\n",
        "new_x = np.array([[0.5], [1.5], [2.0]])\n",
        "predictions = predict(new_x)\n",
        "\n",
        "for i in range(len(new_x)):\n",
        "    print(f\"Prediction for x = {new_x[i][0]}: y = {predictions[i][0]:.2f}\")"
      ]
    },
    {
      "cell_type": "markdown",
      "source": [
        "# Summary:\n",
        "This notebook walks through the process of building a linear regression model using gradient descent:\n",
        "\n",
        "It generates synthetic data for linear regression.\n",
        "\n",
        "Implements the cost function (mean squared error).\n",
        "\n",
        "Uses gradient descent to minimize the cost and find the best-fitting line.\n",
        "\n",
        "Visualizes the results and makes predictions using the learned model.\n",
        "\n",
        "By the end of the lab, you will have a basic understanding of how gradient descent works and how it can be used to fit a linear regression model to data."
      ],
      "metadata": {
        "id": "QEyRwKxIOCvu"
      }
    }
  ],
  "metadata": {
    "kernelspec": {
      "display_name": "Python 3",
      "language": "python",
      "name": "python3"
    },
    "language_info": {
      "name": "python",
      "version": "3.8.5"
    },
    "colab": {
      "provenance": []
    }
  },
  "nbformat": 4,
  "nbformat_minor": 0
}